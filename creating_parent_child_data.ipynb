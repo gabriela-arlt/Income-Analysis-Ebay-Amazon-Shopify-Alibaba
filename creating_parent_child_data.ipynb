{
 "cells": [
  {
   "cell_type": "code",
   "execution_count": 1,
   "metadata": {},
   "outputs": [
    {
     "name": "stdout",
     "output_type": "stream",
     "text": [
      "Hi\n"
     ]
    }
   ],
   "source": [
    "print('Hi')"
   ]
  },
  {
   "cell_type": "markdown",
   "metadata": {},
   "source": [
    "# Creating a parent child table for use in a relatinship diagram"
   ]
  },
  {
   "cell_type": "code",
   "execution_count": 7,
   "metadata": {},
   "outputs": [],
   "source": [
    "import pandas as pd"
   ]
  },
  {
   "cell_type": "code",
   "execution_count": 8,
   "metadata": {},
   "outputs": [],
   "source": [
    "# Load your wide-format data\n",
    "df = pd.read_csv('income_statement_alibaba.csv')"
   ]
  },
  {
   "cell_type": "code",
   "execution_count": 9,
   "metadata": {},
   "outputs": [],
   "source": [
    "# Convert 'Fiscal Date Ending' to datetime and extract the year\n",
    "df['Fiscal Date Ending'] = pd.to_datetime(df['Fiscal Date Ending'], errors='coerce')  # Convert to datetime\n",
    "df['Year'] = df['Fiscal Date Ending'].dt.year  # Extract the year"
   ]
  },
  {
   "cell_type": "code",
   "execution_count": 11,
   "metadata": {},
   "outputs": [
    {
     "name": "stdout",
     "output_type": "stream",
     "text": [
      "   Year        Level 0       Level 1           Level 2 Level 3 Level 4  \\\n",
      "0  2024  Total Revenue          None              None    None    None   \n",
      "1  2024  Total Revenue          None              None    None    None   \n",
      "2  2024  Total Revenue  Gross Profit              None    None    None   \n",
      "3  2024  Total Revenue  Gross Profit  Operating Income    None    None   \n",
      "4  2024  Total Revenue  Gross Profit  Operating Income    EBIT    None   \n",
      "\n",
      "     Current Metric         Value  \n",
      "0   Cost of Revenue  6.079150e+11  \n",
      "1      Gross Profit  3.332530e+11  \n",
      "2  Operating Income  1.238710e+11  \n",
      "3              EBIT  1.238710e+11  \n",
      "4            EBITDA  1.721030e+11  \n"
     ]
    }
   ],
   "source": [
    "\n",
    "# Define the hierarchical relationships\n",
    "relationships = {\n",
    "    'Total Revenue': ['Cost of Revenue', 'Gross Profit', 'Non-Interest Income', 'Other Non-Operating Income', 'Investment Income Net', 'Net Interest Income'],\n",
    "    'Gross Profit': ['Operating Income', 'Selling, General and Administrative', 'Research and Development'],\n",
    "    'Operating Income': ['EBIT', 'Operating Expenses', 'Depreciation', 'Depreciation and Amortization'],\n",
    "    'EBIT': ['EBITDA', 'Income Before Tax'],\n",
    "    'Income Before Tax': ['Income Tax Expense'],\n",
    "    'EBITDA': ['Net Income'],\n",
    "    'Net Income': ['Net Income from Continuing Operations', 'Comprehensive Income Net of Tax'],\n",
    "    'Net Interest Income': ['Interest Income', 'Interest Expense']\n",
    "}\n",
    "\n",
    "# Create a DataFrame to hold the hierarchical data\n",
    "hierarchical_data = []\n",
    "\n",
    "# Recursive function to build hierarchical data\n",
    "def build_hierarchy(year, parent, level, path):\n",
    "    if level > 4:  # Limit levels to avoid excessive columns\n",
    "        return\n",
    "    path[level] = parent\n",
    "    for child in relationships.get(parent, []):\n",
    "        value = df.loc[df['Year'] == year, child].values[0] if child in df.columns else None\n",
    "        hierarchical_data.append([year] + path + [child, value])\n",
    "        build_hierarchy(year, child, level + 1, path.copy())\n",
    "\n",
    "# Build hierarchical data\n",
    "for year in df['Year'].unique():\n",
    "    for parent in relationships.keys():\n",
    "        build_hierarchy(year, parent, 0, [None] * 5)  # Adjust the number of levels here if necessary\n",
    "\n",
    "# Create DataFrame from hierarchical data\n",
    "df_hierarchy = pd.DataFrame(hierarchical_data, columns=['Year'] + [f'Level {i}' for i in range(5)] + ['Current Metric', 'Value'])\n",
    "\n",
    "# Save the transformed data to CSV or Excel\n",
    "df_hierarchy.to_csv('alibaba_hierarchical_levels_columns.csv', index=False)\n",
    "# Or to Excel\n",
    "#df_hierarchy.to_excel('hierarchical_levels_columns.xlsx', index=False)\n",
    "\n",
    "print(df_hierarchy.head())  # Check the first few rows"
   ]
  }
 ],
 "metadata": {
  "kernelspec": {
   "display_name": "base",
   "language": "python",
   "name": "python3"
  },
  "language_info": {
   "codemirror_mode": {
    "name": "ipython",
    "version": 3
   },
   "file_extension": ".py",
   "mimetype": "text/x-python",
   "name": "python",
   "nbconvert_exporter": "python",
   "pygments_lexer": "ipython3",
   "version": "3.11.5"
  }
 },
 "nbformat": 4,
 "nbformat_minor": 2
}
